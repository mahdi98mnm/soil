{
 "cells": [
  {
   "attachments": {},
   "cell_type": "markdown",
   "metadata": {},
   "source": [
    "# one layer"
   ]
  },
  {
   "cell_type": "code",
   "execution_count": null,
   "metadata": {},
   "outputs": [],
   "source": [
    "from evaporation_layer import *\n",
    "infiltration = [50, 30, 0, 20, 40, 0, 10, 80, 70, 10]\n",
    "evapotraspiration_ini = [60, 20, 25, 40, 6, 30, 20, 80, 50, 5]\n",
    "\n",
    "\n",
    "\n",
    "current_swc_evaporation_layer_list = [0]\n",
    "evapotraspiration_list = []\n",
    "irrigation_requirement_list = []\n",
    "deepPercolation_list = []\n",
    "\n",
    "\n",
    "for i in range(0, 10):\n",
    "    \n",
    "    current_swc_evaporation_layer, irrigation_requirement, deepPercolation, evapotraspiration = waterSoilContentAlayer(\n",
    "        infiltration = infiltration[i],\n",
    "        evapotraspiration = evapotraspiration_ini[i],\n",
    "        init_swc_evaporation_layer = current_swc_evaporation_layer_list[i],\n",
    "        z_evaporation_layer = 100,\n",
    "        fc_evaporation_layer = 50,\n",
    "        pwp_evaporation_layer = 25\n",
    "    )\n",
    "\n",
    "    if irrigation_requirement > 0 and i < 9:\n",
    "        infiltration[i+1] = irrigation_requirement + infiltration[i+1]\n",
    "\n",
    "    current_swc_evaporation_layer_list.append(current_swc_evaporation_layer)\n",
    "    evapotraspiration_list.append(evapotraspiration)\n",
    "    irrigation_requirement_list.append(irrigation_requirement)\n",
    "    deepPercolation_list.append(deepPercolation)"
   ]
  },
  {
   "cell_type": "code",
   "execution_count": null,
   "metadata": {},
   "outputs": [],
   "source": [
    "print(current_swc_evaporation_layer_list)\n",
    "print(evapotraspiration_list)\n",
    "print(irrigation_requirement_list)\n",
    "print(deepPercolation_list)\n"
   ]
  },
  {
   "attachments": {},
   "cell_type": "markdown",
   "metadata": {},
   "source": [
    "# two layer"
   ]
  },
  {
   "cell_type": "code",
   "execution_count": null,
   "metadata": {},
   "outputs": [],
   "source": [
    "from evaporation_layer import *\n",
    "\n",
    "infiltration = [50, 30, 90, 20, 40, 60, 10, 80, 70, 100]\n",
    "evaporation_ini = [10, 20, 5, 4, 6, 30, 20, 8, 6, 5]\n",
    "\n",
    "\n",
    "\n",
    "current_swc_evaporation_layer_list = [0]\n",
    "current_swc_transition_layer_list = [0]\n",
    "evaporation_list = []\n",
    "current_evaporation_layer_to_transition_layer_list = []\n",
    "deepPercolation_list = []\n",
    "temp_2_list = []\n",
    "# hydraulic_conductivity_of_evaporation_to_transition_layer = 50 # mm / day\n",
    "\n",
    "\n",
    "\n",
    "for i in range(0, 10):\n",
    "\n",
    "    current_swc_evaporation_layer, current_swc_transition_layer, current_evaporation_layer_to_transition_layer, deepPercolation, evaporation, temp_2 = waterSoilContentNotCoverd(\n",
    "        infiltration = infiltration[i],\n",
    "        evaporation = evaporation_ini[i],\n",
    "        init_swc_evaporation_layer = current_swc_evaporation_layer_list[i],\n",
    "        init_swc_transition_layer = current_swc_transition_layer_list[i],\n",
    "        z_evaporation_layer = 100,\n",
    "        z_transition_layer = 200,\n",
    "        fc_evaporation_layer = 50,\n",
    "        fc_transition_layer = 50,\n",
    "        pwp_evaporation_layer = 25,\n",
    "        pwp_transition_layer = 25\n",
    "    )\n",
    "    \n",
    "    current_swc_evaporation_layer_list.append(current_swc_evaporation_layer)\n",
    "    current_swc_transition_layer_list.append(current_swc_transition_layer)\n",
    "    current_evaporation_layer_to_transition_layer_list.append(current_evaporation_layer_to_transition_layer)\n",
    "    deepPercolation_list.append(deepPercolation)\n",
    "    evaporation_list.append(evaporation)\n",
    "    temp_2_list.append(temp_2)\n",
    "    "
   ]
  },
  {
   "cell_type": "code",
   "execution_count": null,
   "metadata": {},
   "outputs": [],
   "source": [
    "print(current_swc_evaporation_layer_list)\n",
    "print(current_swc_transition_layer_list)\n",
    "print(current_evaporation_layer_to_transition_layer_list)\n",
    "print(deepPercolation_list)\n",
    "print(evaporation_list)\n",
    "print(temp_2_list)"
   ]
  },
  {
   "attachments": {},
   "cell_type": "markdown",
   "metadata": {},
   "source": [
    "# three layer"
   ]
  },
  {
   "cell_type": "code",
   "execution_count": 1,
   "metadata": {},
   "outputs": [],
   "source": [
    "from evaporation_layer import *\n",
    "infiltration = [50, 30, 90, 20, 40, 60, 10, 80, 70, 100]\n",
    "evaporation_ini = [10, 20, 5, 4, 6, 30, 20, 8, 6, 5]\n",
    "transpiration_ini = [6, 12, 2, 5, 8, 6, 5, 4, 3, 2]\n",
    "\n",
    "\n",
    "current_swc_evaporation_layer_list = [0]\n",
    "current_swc_transpiration_layer_list = [0]\n",
    "current_swc_transition_layer_list = [0]\n",
    "evaporation_list = []\n",
    "current_evaporation_layer_to_transpiration_layer_list = []\n",
    "current_transpiration_layer_to_transition_layer_list = []\n",
    "transpiration_list = []\n",
    "irrigation_requirement_list = []\n",
    "deepPercolation_list = []\n",
    "\n",
    "\n",
    "for i in range(0, 10):\n",
    "\n",
    "    current_swc_evaporation_layer, current_swc_transpiration_layer, current_swc_transition_layer, current_evaporation_layer_to_transpiration_layer, current_transpiration_layer_to_transition_layer, transpiration, evaporation, irrigation_requirement, deepPercolation = waterSoilContentCoverd(\n",
    "        infiltration = infiltration[i],\n",
    "        evaporation = evaporation_ini[i],\n",
    "        transpiration = transpiration_ini[i],\n",
    "        init_swc_evaporation_layer = current_swc_evaporation_layer_list[i],\n",
    "        init_swc_transition_layer = current_swc_transition_layer_list[i],\n",
    "        init_swc_transpiration_layer = current_swc_transpiration_layer_list[i],\n",
    "        z_evaporation_layer = 100,\n",
    "        z_transition_layer = 200,\n",
    "        z_transpiration_layer = 150,\n",
    "        fc_evaporation_layer = 50,\n",
    "        fc_transition_layer = 50,\n",
    "        fc_transpiration_layer = 50,\n",
    "        pwp_evaporation_layer = 25,\n",
    "        pwp_transition_layer = 25,\n",
    "        pwp_transpiration_layer = 25,\n",
    "        stress_coefficient = 0.7,\n",
    "        MAD = 0.6\n",
    "    )\n",
    "\n",
    "    if irrigation_requirement > 0 and i < 9:\n",
    "        infiltration[i+1] = irrigation_requirement + infiltration[i+1]\n",
    "\n",
    "    current_swc_evaporation_layer_list.append(current_swc_evaporation_layer)\n",
    "    current_swc_transpiration_layer_list.append(current_swc_transpiration_layer)\n",
    "    current_swc_transition_layer_list.append(current_swc_transition_layer)\n",
    "    current_evaporation_layer_to_transpiration_layer_list.append(current_evaporation_layer_to_transpiration_layer)\n",
    "    evaporation_list.append(evaporation)\n",
    "    current_transpiration_layer_to_transition_layer_list.append(current_transpiration_layer_to_transition_layer)\n",
    "    transpiration_list.append(transpiration)\n",
    "    irrigation_requirement_list.append(irrigation_requirement)\n",
    "    deepPercolation_list.append(deepPercolation)"
   ]
  },
  {
   "cell_type": "code",
   "execution_count": 2,
   "metadata": {},
   "outputs": [
    {
     "name": "stdout",
     "output_type": "stream",
     "text": [
      "[0, 50.0, 50.0, 50.0, 50.0, 50.0, 50.0, 40.0, 50.0, 50.0, 50.0]\n",
      "[0, 46.5, 44.5, 52.5, 52.5, 52.5, 52.5, 47.5, 52.5, 52.5, 52.5]\n",
      "[0, 50.0, 50.0, 100.0, 100.0, 100.0, 100.0, 100.0, 100.0, 100.0, 100.0]\n",
      "[15.0, 10.0, 85.0, 16.0, 34.0, 30.0, 0, 62.0, 64.0, 95.0]\n",
      "[10, 20, 5, 4, 6, 30, 20, 8, 6, 5]\n",
      "[0, 0, 75.0, 11.0, 26.0, 24.0, 0, 53.0, 61.0, 93.0]\n",
      "[6, 12, 2, 5, 8, 6, 5, 4, 3, 2]\n",
      "[0, 0, 0, 0, 0, 0, 0, 0, 0, 0]\n",
      "[0, 0, 25.0, 11.0, 26.0, 24.0, 0.0, 53.0, 61.0, 93.0]\n"
     ]
    }
   ],
   "source": [
    "print(current_swc_evaporation_layer_list)\n",
    "print(current_swc_transpiration_layer_list)\n",
    "print(current_swc_transition_layer_list)\n",
    "print(current_evaporation_layer_to_transpiration_layer_list)\n",
    "print(evaporation_list)\n",
    "print(current_transpiration_layer_to_transition_layer_list)\n",
    "print(transpiration_list)\n",
    "print(irrigation_requirement_list)\n",
    "print(deepPercolation_list)"
   ]
  },
  {
   "cell_type": "code",
   "execution_count": null,
   "metadata": {},
   "outputs": [],
   "source": []
  }
 ],
 "metadata": {
  "kernelspec": {
   "display_name": "base",
   "language": "python",
   "name": "python3"
  },
  "language_info": {
   "codemirror_mode": {
    "name": "ipython",
    "version": 3
   },
   "file_extension": ".py",
   "mimetype": "text/x-python",
   "name": "python",
   "nbconvert_exporter": "python",
   "pygments_lexer": "ipython3",
   "version": "3.8.10"
  },
  "orig_nbformat": 4
 },
 "nbformat": 4,
 "nbformat_minor": 2
}
